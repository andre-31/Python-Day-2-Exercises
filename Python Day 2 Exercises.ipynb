{
 "cells": [
  {
   "cell_type": "markdown",
   "metadata": {},
   "source": [
    "Exercise 1. Print out if 25 multiplied by 54 is bigger than 33 multipled by 33"
   ]
  },
  {
   "cell_type": "code",
   "execution_count": 1,
   "metadata": {},
   "outputs": [
    {
     "name": "stdout",
     "output_type": "stream",
     "text": [
      "True\n"
     ]
    }
   ],
   "source": [
    "a = 25 * 54\n",
    "b = 33 * 33\n",
    "print(a>b)"
   ]
  },
  {
   "cell_type": "markdown",
   "metadata": {},
   "source": [
    "Exercise 2. Write a function called favorite_book() that accepts one parameter, title. The function should print a message, such as 'One of my favorite books is Alice in Wonderland.' Call the function, making sure to include a book title as an argument in the function call."
   ]
  },
  {
   "cell_type": "code",
   "execution_count": 3,
   "metadata": {},
   "outputs": [
    {
     "name": "stdout",
     "output_type": "stream",
     "text": [
      "Alice in Wonderland is my favorite book\n"
     ]
    }
   ],
   "source": [
    "def favorite_book(title):\n",
    "    print(title + \"is my favorite book\")\n",
    "    \n",
    "favorite_book(\"Alice in Wonderland \")"
   ]
  },
  {
   "cell_type": "markdown",
   "metadata": {},
   "source": [
    "Exercise 3. Write a function called multiply_two() that accepts two parameters. The function should print a meesage like '15 + 2 = 17'.  Randomly generate two numbers between 1 and 100, then call the function with the two random numbers."
   ]
  },
  {
   "cell_type": "code",
   "execution_count": 33,
   "metadata": {},
   "outputs": [
    {
     "name": "stdout",
     "output_type": "stream",
     "text": [
      "97 + 8 = <function multiply_two at 0x7f87e57184c0>\n"
     ]
    }
   ],
   "source": [
    "import random as rand\n",
    "\n",
    "def multiply_two(a, b):\n",
    "    \n",
    "    return a + b\n",
    "\n",
    "a = rand.randint(1, 100)\n",
    "b = rand.randint(1, 100)\n",
    "\n",
    "print(f\"{a} + {b} = {multiply_two}\")\n",
    "\n",
    "# I don't know what's going wrong help"
   ]
  },
  {
   "cell_type": "markdown",
   "metadata": {},
   "source": [
    "Exercise 4: Write a function called make_shirt() that accepts a size and the text of a message. The function should print a sentence summarizing the size of the shirt and the message printed on it. The default shirt size is large and default message is 'I love Python!' Make a large shirt and a medium shirt with the default message, and a shirt of any size with a different message."
   ]
  },
  {
   "cell_type": "code",
   "execution_count": 58,
   "metadata": {},
   "outputs": [
    {
     "name": "stdout",
     "output_type": "stream",
     "text": [
      "I'm going to make a Large shirt\n",
      "It will say I love Python.\n",
      "\n",
      "I'm going to make a Medium shirt\n",
      "It will say I love Python.\n",
      "\n",
      "I'm going to make a Small shirt\n",
      "It will say I love JavaScript.\n"
     ]
    }
   ],
   "source": [
    "def make_shirt(size, text):\n",
    "    print(\"I'm going to make a \" + size + \" shirt\")\n",
    "    print(\"It will say \" + text + \".\")\n",
    "\n",
    "make_shirt(\"Large\", \"I love Python\")\n",
    "print()\n",
    "make_shirt(\"Medium\", \"I love Python\")\n",
    "print()\n",
    "make_shirt(\"Small\", \"I love JavaScript\")"
   ]
  },
  {
   "cell_type": "markdown",
   "metadata": {},
   "source": [
    "Exercise 5. Ask for a color and store that answer. \n",
    "If the answer is grey then print out you found Victor's favorite color.\n",
    "Otherwise print out the color is not Victor's favorite color."
   ]
  },
  {
   "cell_type": "code",
   "execution_count": 68,
   "metadata": {},
   "outputs": [
    {
     "name": "stdout",
     "output_type": "stream",
     "text": [
      "colorred\n",
      "red is not victors favorite color\n"
     ]
    }
   ],
   "source": [
    "color = input(\"color\")\n",
    "if color == \"grey\":\n",
    "     print(\"you found victors favorite color\")\n",
    "else:\n",
    "     print(f\"{color} is not victors favorite color\")"
   ]
  },
  {
   "cell_type": "markdown",
   "metadata": {},
   "source": [
    "Exercise 6. Modify code from above exercise and add in more conditions for other colors such as red, green, blue and write statements for them. "
   ]
  },
  {
   "cell_type": "code",
   "execution_count": 73,
   "metadata": {},
   "outputs": [
    {
     "name": "stdout",
     "output_type": "stream",
     "text": [
      "colorred\n",
      "red is not victors favorite color\n"
     ]
    }
   ],
   "source": [
    "color = input(\"color\")\n",
    "if color == \"grey\":\n",
    "     print(\"you found victors favorite color\")\n",
    "elif color == \"red\":\n",
    "     print(f\"{color} is not victors favorite color\")\n",
    "elif color == \"green\":\n",
    "     print(f\"{color} is his second favorite color\")\n",
    "elif color == \"blue\":\n",
    "     print(f\"{color} is his third favorite color\")"
   ]
  },
  {
   "cell_type": "markdown",
   "metadata": {},
   "source": [
    "Exercise 7. Ask for an exam score and store that number. If the number is greater than 100, then print out 'You cannot have an exam score higher than 100'. If the number doesn't exceeed 100 but is greater than or equal to 75, then print out 'You did great on your exam!'. Otherwise if they scored lower than 75, then print out 'You need to study harder'."
   ]
  },
  {
   "cell_type": "code",
   "execution_count": 83,
   "metadata": {},
   "outputs": [
    {
     "name": "stdout",
     "output_type": "stream",
     "text": [
      "input your exam score60\n",
      "You need to study harder\n"
     ]
    }
   ],
   "source": [
    "exam_score = int(input(\"input your exam score\"))\n",
    "if exam_score > 100:\n",
    "    print(\"You cannot have an exam score higher than 100\")\n",
    "elif 75 <= exam_score <= 100:\n",
    "    print(\"You did great on your exam!\")\n",
    "elif exam_score < 75:\n",
    "    print(\"You need to study harder\")"
   ]
  },
  {
   "cell_type": "markdown",
   "metadata": {},
   "source": [
    "Exercise 8. \n",
    "Define two functions: \n",
    "    - a function that takes 3 arguements and returns the sum of three arguements\n",
    "    - a function that takes 2 arguements and returns the result of 1st arguement multiplied by 2nd arguement\n",
    "\n",
    "Then tell the user to choose option 1 to add three numbers or option 2 to multiply two numbers.\n",
    "If the user choose option 1 then call the addition function, otherwise if they choose option 2 then call the mulitplication function.  If the user choose anything other than option 1 or 2, then generate a friendly error messsage"
   ]
  },
  {
   "cell_type": "code",
   "execution_count": 101,
   "metadata": {},
   "outputs": [
    {
     "name": "stdout",
     "output_type": "stream",
     "text": [
      "input option 1 to add 3 numbers or option 2 to multiply 2 numbers1\n",
      "please choose 'option 1' or 'option 2'\n"
     ]
    }
   ],
   "source": [
    "option = input(\"input option 1 to add 3 numbers or option 2 to multiply 2 numbers\")\n",
    "\n",
    "if option == \"option 2\":\n",
    "    number1 = int(input(\"enter number first number\"))\n",
    "    number2 = int(input(\"enter number second number\"))\n",
    "    print(number1 * number2)\n",
    "elif option == \"option 1\":\n",
    "    number1 = int(input(\"enter number first number\"))\n",
    "    number2 = int(input(\"enter number second number\"))\n",
    "    number3 = int(input(\"enter number third number\"))\n",
    "    print(number1 + number2 + number3)\n",
    "elif option:\n",
    "    print(\"please choose 'option 1' or 'option 2'\")\n",
    "    "
   ]
  },
  {
   "cell_type": "markdown",
   "metadata": {},
   "source": [
    "## Exercise 9. \n",
    "Write a function to convert a test score to a grade where  \n",
    " - 90 - 100: A\n",
    " - 80 - 89:  B\n",
    " - 70 - 79:  C\n",
    " - 60 - 69:  D\n",
    " - < 60   :  F\n",
    " \n",
    "If a score is not between 0 and 100 then print out an error message. In the program, ask the user for a score and then call your function. "
   ]
  },
  {
   "cell_type": "code",
   "execution_count": 4,
   "metadata": {},
   "outputs": [
    {
     "name": "stdout",
     "output_type": "stream",
     "text": [
      "enter your score22\n",
      "you have an F\n"
     ]
    }
   ],
   "source": [
    "score = int(input(\"enter your score\"))\n",
    "if 90 <= score <= 100:\n",
    "    print(\"you have an A\")\n",
    "elif 80 <= score <= 89:\n",
    "    print(\"you have an B\")\n",
    "elif 70 <= score <= 79:\n",
    "    print(\"you have an C\")\n",
    "elif 60 <= score <= 69:\n",
    "    print(\"you have an D\")\n",
    "elif 0 <= score < 60:\n",
    "    print(\"you have an F\")\n",
    "elif score:\n",
    "    print(\"please put a score between 0 and 100\")\n"
   ]
  },
  {
   "cell_type": "markdown",
   "metadata": {},
   "source": [
    "Exercise 10. Write a program to compute discounts for customers.  \n",
    "- For retail customers, \n",
    "    - if invoice total is greater than \\$100 then discount rate is 10\\%, otherwise no discount \n",
    "\n",
    "- For wholesale customers,\n",
    "    - if invoice total is greater than \\$500 then discount rate is 30\\%, otherwise discount rate is 20\\%\n",
    "    \n",
    "Get the type of customer and the invoice total from the user."
   ]
  },
  {
   "cell_type": "code",
   "execution_count": 27,
   "metadata": {},
   "outputs": [
    {
     "name": "stdout",
     "output_type": "stream",
     "text": [
      "enter your subtotal22\n",
      "enter retail or wholesale customere\n",
      "error\n"
     ]
    }
   ],
   "source": [
    "subtotal = int(input(\"enter your subtotal\"))\n",
    "customer = input(\"enter retail or wholesale customer\")\n",
    "if customer == \"retail customer\":\n",
    "    if subtotal > 100:\n",
    "        total = subtotal - .1 * subtotal\n",
    "        print(f\"${total}\")\n",
    "    elif subtotal < 100:\n",
    "        print(subtotal)\n",
    "elif customer == \"wholesale customer\":\n",
    "    if subtotal > 500:\n",
    "        total = subtotal - .3 * subtotal\n",
    "        print(f\"${total}\")\n",
    "    elif subtotal:\n",
    "        total = subtotal - .2 * subtotal\n",
    "        print(f\"${total}\")\n",
    "elif customer:\n",
    "    print(\"error please enter wholesale or retail customer\")"
   ]
  },
  {
   "cell_type": "code",
   "execution_count": null,
   "metadata": {},
   "outputs": [],
   "source": []
  },
  {
   "cell_type": "code",
   "execution_count": null,
   "metadata": {},
   "outputs": [],
   "source": []
  }
 ],
 "metadata": {
  "kernelspec": {
   "display_name": "Python 3",
   "language": "python",
   "name": "python3"
  },
  "language_info": {
   "codemirror_mode": {
    "name": "ipython",
    "version": 3
   },
   "file_extension": ".py",
   "mimetype": "text/x-python",
   "name": "python",
   "nbconvert_exporter": "python",
   "pygments_lexer": "ipython3",
   "version": "3.8.3"
  }
 },
 "nbformat": 4,
 "nbformat_minor": 4
}
